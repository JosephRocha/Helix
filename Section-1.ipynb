{
 "cells": [
  {
   "cell_type": "code",
   "execution_count": 1,
   "metadata": {},
   "outputs": [],
   "source": [
    "import random\n",
    "import numpy as np\n",
    "import matplotlib.pyplot as plt\n",
    "import urllib.request\n",
    "import pandas as pd\n",
    "import math\n",
    "import matplotlib.lines as mlines"
   ]
  },
  {
   "cell_type": "code",
   "execution_count": 2,
   "metadata": {},
   "outputs": [],
   "source": [
    "import time, sys\n",
    "from IPython.display import clear_output\n",
    "\n",
    "def update_progress(progress):\n",
    "    bar_length = 20\n",
    "    if isinstance(progress, int):\n",
    "        progress = float(progress)\n",
    "    if not isinstance(progress, float):\n",
    "        progress = 0\n",
    "    if progress < 0:\n",
    "        progress = 0\n",
    "    if progress >= 1:\n",
    "        progress = 1\n",
    "\n",
    "    block = int(round(bar_length * progress))\n",
    "\n",
    "    clear_output(wait = True)\n",
    "    text = \"Progress: [{0}] {1:.1f}%\".format( \"#\" * block + \"-\" * (bar_length - block), progress * 100)\n",
    "    print(text)"
   ]
  },
  {
   "cell_type": "code",
   "execution_count": 3,
   "metadata": {},
   "outputs": [],
   "source": [
    "def readNPDBFiles(path, n):\n",
    "    file = open(path, \"r\")\n",
    "    lines = file.readlines()\n",
    "    pdbs = [(line.strip()[:4], line.strip()[4:5]) for line in lines[1:]]\n",
    "    random.shuffle(pdbs)\n",
    "    return pdbs[1:n]"
   ]
  },
  {
   "cell_type": "code",
   "execution_count": 4,
   "metadata": {},
   "outputs": [],
   "source": [
    "def getPDBFile(pdb):\n",
    "        try:\n",
    "            url = \"https://files.rcsb.org/view/{}.pdb\".format(pdb)\n",
    "            response = urllib.request.urlopen(url)\n",
    "            data = response.read()\n",
    "            text = data.decode('utf-8')\n",
    "            text = text.split('\\n')\n",
    "            return(text)\n",
    "        except:\n",
    "            return([])"
   ]
  },
  {
   "cell_type": "code",
   "execution_count": 5,
   "metadata": {},
   "outputs": [],
   "source": [
    "def AnalyzePDB_Q1(pdbs):\n",
    "    freq = {}\n",
    "    processed = 1\n",
    "    for pdb in pdbs:\n",
    "        update_progress(processed / len(pdbs))\n",
    "        print(\"Processing {}/{}\".format(processed, len(pdbs)))\n",
    "        lines = getPDBFile(pdb[0])\n",
    "        helixLines = [line for line in lines if line.startswith(\"HELIX\")]\n",
    "        for idx, helix, in enumerate(helixLines):\n",
    "            if(helix[19].strip() == pdb[1]):\n",
    "                helixClass = helix[39:40].strip()\n",
    "            \n",
    "                if helixClass not in freq:\n",
    "                    freq[helixClass] = 1\n",
    "                else:\n",
    "                    freq[helixClass] += 1\n",
    "        processed+=1\n",
    "    return freq"
   ]
  },
  {
   "cell_type": "code",
   "execution_count": 6,
   "metadata": {},
   "outputs": [
    {
     "name": "stdout",
     "output_type": "stream",
     "text": [
      "Progress: [####################] 100.0%\n",
      "Processing 18876/18876\n",
      "CPU times: user 4min 23s, sys: 1min 8s, total: 5min 32s\n",
      "Wall time: 9h 56min 53s\n"
     ]
    }
   ],
   "source": [
    "%%time\n",
    "pdbs = readNPDBFiles(\"cullpdb_pc30_res3.0_R1.0_d191017_chains18877\", 18877)\n",
    "freq = AnalyzePDB_Q1(pdbs)"
   ]
  },
  {
   "cell_type": "code",
   "execution_count": 7,
   "metadata": {},
   "outputs": [
    {
     "data": {
      "text/plain": [
       "(-1.1198752435240864,\n",
       " 1.1081138724739727,\n",
       " -1.1186827837105784,\n",
       " 1.1008896563671704)"
      ]
     },
     "execution_count": 7,
     "metadata": {},
     "output_type": "execute_result"
    },
    {
     "data": {
      "image/png": "[encoded data removed]",
      "text/plain": [
       "<Figure size 1008x504 with 1 Axes>"
      ]
     },
     "metadata": {},
     "output_type": "display_data"
    }
   ],
   "source": [
    "fig, ax = plt.subplots()\n",
    "fig.set_size_inches(14, 7)\n",
    "x = [freq[entry] for entry in freq]\n",
    "plotList = [entry for entry in freq]\n",
    "ax.pie(x, labels=plotList, autopct='%1.1f%%', startangle=90)\n",
    "ax.axis('equal')  # Equal aspect ratio ensures that pie is drawn as a circle."
   ]
  },
  {
   "cell_type": "code",
   "execution_count": null,
   "metadata": {},
   "outputs": [],
   "source": []
  }
 ],
 "metadata": {
  "kernelspec": {
   "display_name": "Python 3",
   "language": "python",
   "name": "python3"
  },
  "language_info": {
   "codemirror_mode": {
    "name": "ipython",
    "version": 3
   },
   "file_extension": ".py",
   "mimetype": "text/x-python",
   "name": "python",
   "nbconvert_exporter": "python",
   "pygments_lexer": "ipython3",
   "version": "3.6.8"
  }
 },
 "nbformat": 4,
 "nbformat_minor": 2
}
