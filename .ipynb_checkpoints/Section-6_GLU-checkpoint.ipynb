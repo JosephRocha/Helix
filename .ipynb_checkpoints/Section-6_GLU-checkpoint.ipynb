{
 "cells": [
  {
   "cell_type": "code",
   "execution_count": 1,
   "metadata": {},
   "outputs": [],
   "source": [
    "import random\n",
    "import numpy as np\n",
    "import matplotlib.pyplot as plt\n",
    "import urllib.request\n",
    "import pandas as pd\n",
    "import math\n",
    "import matplotlib.lines as mlines"
   ]
  },
  {
   "cell_type": "code",
   "execution_count": 2,
   "metadata": {},
   "outputs": [],
   "source": [
    "import time, sys\n",
    "from IPython.display import clear_output\n",
    "\n",
    "def update_progress(progress):\n",
    "    bar_length = 20\n",
    "    if isinstance(progress, int):\n",
    "        progress = float(progress)\n",
    "    if not isinstance(progress, float):\n",
    "        progress = 0\n",
    "    if progress < 0:\n",
    "        progress = 0\n",
    "    if progress >= 1:\n",
    "        progress = 1\n",
    "\n",
    "    block = int(round(bar_length * progress))\n",
    "\n",
    "    clear_output(wait = True)\n",
    "    text = \"Progress: [{0}] {1:.1f}%\".format( \"#\" * block + \"-\" * (bar_length - block), progress * 100)\n",
    "    print(text)"
   ]
  },
  {
   "cell_type": "code",
   "execution_count": 3,
   "metadata": {},
   "outputs": [],
   "source": [
    "def readNPDBFiles(path, n):\n",
    "    file = open(path, \"r\")\n",
    "    lines = file.readlines()\n",
    "    pdbs = [(line.strip()[:4], line.strip()[4:5]) for line in lines[1:]]\n",
    "    random.shuffle(pdbs)\n",
    "    return pdbs[1:n]"
   ]
  },
  {
   "cell_type": "code",
   "execution_count": 4,
   "metadata": {},
   "outputs": [],
   "source": [
    "def getPDBFile(pdb):\n",
    "        try:\n",
    "            url = \"https://files.rcsb.org/view/{}.pdb\".format(pdb)\n",
    "            response = urllib.request.urlopen(url)\n",
    "            data = response.read()\n",
    "            text = data.decode('utf-8')\n",
    "            text = text.split('\\n')\n",
    "            return(text)\n",
    "        except:\n",
    "            return([])"
   ]
  },
  {
   "cell_type": "code",
   "execution_count": 5,
   "metadata": {},
   "outputs": [],
   "source": [
    "def getAtomCoordinates(lines, chain, aaNum, atom):\n",
    "    atomLines = [line for line in lines if line.startswith(\"ATOM\")]\n",
    "    for line in atomLines:\n",
    "        name = line[12:16].strip()\n",
    "        chainID = line[21].strip()\n",
    "        resSeq = line[22:26].strip()\n",
    "        x = line[30:38].strip()\n",
    "        y = line[38:46].strip()\n",
    "        z = line[46:54].strip()\n",
    "        if chainID == chain and resSeq == aaNum and atom == name:\n",
    "            return(x, y, z)\n",
    "    return None\n",
    "\n",
    "def getTorsion(p1, p2, p3, p4):\n",
    "    q1 = np.subtract(p2, p1)\n",
    "    q2 = np.subtract(p3, p2)\n",
    "    q3 = np.subtract(p4, p3)\n",
    "    \n",
    "    q1_x_q2 = np.cross(q1, q2)\n",
    "    q2_x_q3 = np.cross(q2, q3)\n",
    "    \n",
    "    n1 = q1_x_q2/np.sqrt(np.dot(q1_x_q2,q1_x_q2))\n",
    "    n2 = q2_x_q3/np.sqrt(np.dot(q2_x_q3,q2_x_q3))\n",
    "    \n",
    "    u1 = n2\n",
    "    u3 = q2/(np.sqrt(np.dot(q2,q2)))\n",
    "    u2 = np.cross(u3,u1)\n",
    "    \n",
    "    cos_theta = np.dot(n1,u1)\n",
    "    sin_theta = np.dot(n1,u2)\n",
    "    \n",
    "    theta = -math.atan2(sin_theta,cos_theta)\n",
    "    theta_deg = np.degrees(theta)\n",
    "    \n",
    "    return(theta_deg)\n",
    "\n",
    "def getPhi(lines, chain, aaNum):\n",
    "    if aaNum == 1:\n",
    "        return None\n",
    "    \n",
    "    # C of aaNum-1\n",
    "    atom1Coords = getAtomCoordinates(lines, chain, str(int(aaNum)-1), \"C\")\n",
    "    atom1Coords = np.array(atom1Coords).astype(float)\n",
    "    \n",
    "    # N of aaNum\n",
    "    atom2Coords = getAtomCoordinates(lines, chain, aaNum, \"N\")\n",
    "    atom2Coords = np.array(atom2Coords).astype(float)\n",
    "    \n",
    "    # CA of aaNum\n",
    "    atom3Coords = getAtomCoordinates(lines, chain, aaNum, \"CA\")\n",
    "    atom3Coords = np.array(atom3Coords).astype(float)\n",
    "    \n",
    "    # C of aaNum\n",
    "    atom4Coords = getAtomCoordinates(lines, chain, str(int(aaNum)), \"C\")\n",
    "    atom4Coords = np.array(atom4Coords).astype(float)\n",
    "    \n",
    "    try:\n",
    "        return getTorsion(atom1Coords, atom2Coords, atom3Coords, atom4Coords)\n",
    "    except:\n",
    "        return None\n",
    "        \n",
    "    \n",
    "\n",
    "def getPsi(lines, chain, aaNum):\n",
    "    \n",
    "    # CA of aaNum-1\n",
    "    atom1Coords = getAtomCoordinates(lines, chain, aaNum, \"N\")\n",
    "    atom1Coords = np.array(atom1Coords).astype(float)\n",
    "    \n",
    "    # C of aaNum-1\n",
    "    atom2Coords = getAtomCoordinates(lines, chain, aaNum, \"CA\")\n",
    "    atom2Coords = np.array(atom2Coords).astype(float)\n",
    "    \n",
    "    # N of aaNum\n",
    "    atom3Coords = getAtomCoordinates(lines, chain, aaNum, \"C\")\n",
    "    atom3Coords = np.array(atom3Coords).astype(float)\n",
    "    \n",
    "    # CA of aaNum\n",
    "    atom4Coords = getAtomCoordinates(lines, chain, str(int(aaNum)+1), \"N\")\n",
    "    atom4Coords = np.array(atom4Coords).astype(float)\n",
    "    \n",
    "    try:\n",
    "        return getTorsion(atom1Coords, atom2Coords, atom3Coords, atom4Coords)\n",
    "    except:\n",
    "        return None\n",
    "\n",
    "def getAngle(chain, aaNum, torsion):\n",
    "    if(torsion == \"phi\"):\n",
    "        return getPhi(chain, aaNum)\n",
    "    if(torsion == \"psi\"):\n",
    "        return getPsi(chain, aaNum)\n",
    "    return(\"error\")"
   ]
  },
  {
   "cell_type": "code",
   "execution_count": 6,
   "metadata": {},
   "outputs": [],
   "source": [
    "def AnalyzePDB_Q6(pdbs, aminoAcid=\"GLU\"):\n",
    "    processed = 1\n",
    "    phi_list = []\n",
    "    psi_list = []\n",
    "    for pdb in pdbs:\n",
    "        update_progress(processed / len(pdbs))\n",
    "        print(\"Processing {}/{}\".format(processed, len(pdbs)))\n",
    "        lines = getPDBFile(pdb[0])\n",
    "        aaNums = set()\n",
    "        atoms = [line for line in lines if line.startswith(\"ATOM\")]\n",
    "        prevaaNum = -1\n",
    "        for atom in atoms:\n",
    "            chainID = atom[21].strip()\n",
    "            aaNum = atom[22:26].strip()\n",
    "            residueName = atom[17:20].strip()\n",
    "            if(chainID == pdb[1] and prevaaNum != aaNum and residueName == aminoAcid):\n",
    "                phi = getPhi(lines, chainID, aaNum)\n",
    "                psi = getPsi(lines, chainID, aaNum)\n",
    "                if(phi == None or psi == None):\n",
    "                    prevaaNum = aaNum\n",
    "                    continue\n",
    "                phi_list.append(phi)\n",
    "                psi_list.append(psi)\n",
    "            prevaaNum = aaNum\n",
    "        processed+=1\n",
    "    return(phi_list,psi_list)"
   ]
  },
  {
   "cell_type": "code",
   "execution_count": null,
   "metadata": {},
   "outputs": [
    {
     "name": "stdout",
     "output_type": "stream",
     "text": [
      "Progress: [--------------------] 0.5%\n",
      "Processing 87/18876\n"
     ]
    }
   ],
   "source": [
    "%%time\n",
    "pdbs = readNPDBFiles(\"cullpdb_pc30_res3.0_R1.0_d191017_chains18877\", 18899)\n",
    "phi_list, psi_list = AnalyzePDB_Q6(pdbs)"
   ]
  },
  {
   "cell_type": "markdown",
   "metadata": {},
   "source": [
    "# Alanine (ALA)"
   ]
  },
  {
   "cell_type": "code",
   "execution_count": null,
   "metadata": {},
   "outputs": [],
   "source": [
    "fig, ax = plt.subplots()\n",
    "ax.scatter(phi_list, psi_list, alpha=0.5)\n",
    "fig.set_size_inches(14, 14)\n",
    "ax.add_line(mlines.Line2D([-280, 280], [0, 0], color='black'))\n",
    "ax.add_line(mlines.Line2D([0, 0], [-280, 280], color='black'))\n",
    "plt.title('ALA')\n",
    "plt.xlabel('Phi')\n",
    "plt.ylabel('Psi')\n",
    "plt.show()"
   ]
  },
  {
   "cell_type": "code",
   "execution_count": null,
   "metadata": {},
   "outputs": [],
   "source": []
  },
  {
   "cell_type": "code",
   "execution_count": null,
   "metadata": {},
   "outputs": [],
   "source": [
    "print(\"WOW\")"
   ]
  },
  {
   "cell_type": "code",
   "execution_count": null,
   "metadata": {},
   "outputs": [],
   "source": []
  }
 ],
 "metadata": {
  "kernelspec": {
   "display_name": "Python 3",
   "language": "python",
   "name": "python3"
  },
  "language_info": {
   "codemirror_mode": {
    "name": "ipython",
    "version": 3
   },
   "file_extension": ".py",
   "mimetype": "text/x-python",
   "name": "python",
   "nbconvert_exporter": "python",
   "pygments_lexer": "ipython3",
   "version": "3.6.8"
  }
 },
 "nbformat": 4,
 "nbformat_minor": 2
}
