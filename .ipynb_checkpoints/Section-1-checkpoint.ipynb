{
 "cells": [
  {
   "cell_type": "code",
   "execution_count": 1,
   "metadata": {},
   "outputs": [],
   "source": [
    "import random\n",
    "import numpy as np\n",
    "import matplotlib.pyplot as plt\n",
    "import urllib.request\n",
    "import pandas as pd\n",
    "import math\n",
    "import matplotlib.lines as mlines"
   ]
  },
  {
   "cell_type": "code",
   "execution_count": 2,
   "metadata": {},
   "outputs": [],
   "source": [
    "import time, sys\n",
    "from IPython.display import clear_output\n",
    "\n",
    "def update_progress(progress):\n",
    "    bar_length = 20\n",
    "    if isinstance(progress, int):\n",
    "        progress = float(progress)\n",
    "    if not isinstance(progress, float):\n",
    "        progress = 0\n",
    "    if progress < 0:\n",
    "        progress = 0\n",
    "    if progress >= 1:\n",
    "        progress = 1\n",
    "\n",
    "    block = int(round(bar_length * progress))\n",
    "\n",
    "    clear_output(wait = True)\n",
    "    text = \"Progress: [{0}] {1:.1f}%\".format( \"#\" * block + \"-\" * (bar_length - block), progress * 100)\n",
    "    print(text)"
   ]
  },
  {
   "cell_type": "code",
   "execution_count": 3,
   "metadata": {},
   "outputs": [],
   "source": [
    "def readNPDBFiles(path, n):\n",
    "    file = open(path, \"r\")\n",
    "    lines = file.readlines()\n",
    "    pdbs = [(line.strip()[:4], line.strip()[4:5]) for line in lines[1:]]\n",
    "    random.shuffle(pdbs)\n",
    "    return pdbs[1:n]"
   ]
  },
  {
   "cell_type": "code",
   "execution_count": 4,
   "metadata": {},
   "outputs": [],
   "source": [
    "def getPDBFile(pdb):\n",
    "        try:\n",
    "            url = \"https://files.rcsb.org/view/{}.pdb\".format(pdb)\n",
    "            response = urllib.request.urlopen(url)\n",
    "            data = response.read()\n",
    "            text = data.decode('utf-8')\n",
    "            text = text.split('\\n')\n",
    "            return(text)\n",
    "        except:\n",
    "            return([])"
   ]
  },
  {
   "cell_type": "code",
   "execution_count": null,
   "metadata": {},
   "outputs": [],
   "source": [
    "def AnalyzePDB_Q1(pdbs):\n",
    "    processed = 1\n",
    "    for pdb in pdbs:\n",
    "        update_progress(processed / len(pdbs))\n",
    "        print(\"Processing {}/{}\".format(processed, len(pdbs)))\n",
    "        lines = getPDBFile(pdb[0])\n",
    "        aaNums = set()\n",
    "        atoms = [line for line in lines if line.startswith(\"ATOM\")]\n",
    "        prevaaNum = -1\n",
    "        for atom in atoms:\n",
    "            chainID = atom[21].strip()\n",
    "            aaNum = atom[22:26].strip()\n",
    "            residueName = atom[17:20].strip()\n",
    "            name = atom[12:16].strip()\n",
    "            if(chainID == pdb[1] and prevaaNum != aaNum):\n",
    "                NtoCADistance = getDistance(lines, chainID, aaNum, \"N\", aaNum, \"CA\")\n",
    "                CAtoCDistance = getDistance(lines, chainID, aaNum, \"CA\", aaNum, \"C\")\n",
    "                backboneAngle = getBackboneAngle(lines, chainID, aaNum)\n",
    "                if(NtoCADistance is None or CAtoCDistance is None or backboneAngle is None):\n",
    "                    continue\n",
    "                NtoCADistances.append(NtoCADistance)\n",
    "                CAtoCDistances.append(CAtoCDistance)\n",
    "                backboneAngles.append(backboneAngle)\n",
    "            prevaaNum = aaNum\n",
    "        processed+=1\n",
    "    return(np.array(NtoCADistances), np.array(CAtoCDistances), np.array(backboneAngles))"
   ]
  }
 ],
 "metadata": {
  "kernelspec": {
   "display_name": "Python 3",
   "language": "python",
   "name": "python3"
  },
  "language_info": {
   "codemirror_mode": {
    "name": "ipython",
    "version": 3
   },
   "file_extension": ".py",
   "mimetype": "text/x-python",
   "name": "python",
   "nbconvert_exporter": "python",
   "pygments_lexer": "ipython3",
   "version": "3.6.8"
  }
 },
 "nbformat": 4,
 "nbformat_minor": 2
}
