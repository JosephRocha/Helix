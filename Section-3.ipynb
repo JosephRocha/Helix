{
 "cells": [
  {
   "cell_type": "code",
   "execution_count": 1,
   "metadata": {},
   "outputs": [],
   "source": [
    "import seaborn as sns\n",
    "import pandas as pd\n",
    "import urllib.request\n",
    "import random\n",
    "import matplotlib.pyplot as plt"
   ]
  },
  {
   "cell_type": "code",
   "execution_count": 2,
   "metadata": {},
   "outputs": [],
   "source": [
    "import time, sys\n",
    "from IPython.display import clear_output\n",
    "\n",
    "def update_progress(progress):\n",
    "    bar_length = 20\n",
    "    if isinstance(progress, int):\n",
    "        progress = float(progress)\n",
    "    if not isinstance(progress, float):\n",
    "        progress = 0\n",
    "    if progress < 0:\n",
    "        progress = 0\n",
    "    if progress >= 1:\n",
    "        progress = 1\n",
    "\n",
    "    block = int(round(bar_length * progress))\n",
    "\n",
    "    clear_output(wait = True)\n",
    "    text = \"Progress: [{0}] {1:.1f}%\".format( \"#\" * block + \"-\" * (bar_length - block), progress * 100)\n",
    "    print(text)"
   ]
  },
  {
   "cell_type": "code",
   "execution_count": 3,
   "metadata": {},
   "outputs": [],
   "source": [
    "def readNPDBFiles(path, n):\n",
    "    file = open(path, \"r\")\n",
    "    lines = file.readlines()\n",
    "    pdbs = [(line.strip()[:4], line.strip()[4:5]) for line in lines[1:]]\n",
    "    random.shuffle(pdbs)\n",
    "    return pdbs[1:n]"
   ]
  },
  {
   "cell_type": "code",
   "execution_count": 4,
   "metadata": {},
   "outputs": [],
   "source": [
    "def getPDBFile(pdb):\n",
    "        try:\n",
    "            url = \"https://files.rcsb.org/view/{}.pdb\".format(pdb)\n",
    "            response = urllib.request.urlopen(url)\n",
    "            data = response.read()\n",
    "            text = data.decode('utf-8')\n",
    "            text = text.split('\\n')\n",
    "            return(text)\n",
    "        except:\n",
    "            return([])"
   ]
  },
  {
   "cell_type": "code",
   "execution_count": 5,
   "metadata": {},
   "outputs": [],
   "source": [
    "def getNPDBFileNames(path, n):\n",
    "    file = open(path, \"r\")\n",
    "    lines = file.readlines()\n",
    "    pdbCodes = [line[:4] for line in lines[2:]]\n",
    "    random.shuffle(pdbCodes)\n",
    "    return pdbCodes[0:n]"
   ]
  },
  {
   "cell_type": "code",
   "execution_count": 6,
   "metadata": {},
   "outputs": [],
   "source": [
    "def AnalyzePDB_Q3(pdbs):\n",
    "    freq = {}\n",
    "    processed = 1\n",
    "    for pdb in pdbs:\n",
    "        update_progress(processed / len(pdbs))\n",
    "        print(\"Processing {}/{}\".format(processed, len(pdbs)))\n",
    "        lines = getPDBFile(pdb[0])\n",
    "        helixLines = [line for line in lines if line.startswith(\"HELIX\")]\n",
    "        for idx, helix, in enumerate(helixLines):\n",
    "            if(helix[19].strip() == pdb[1]):\n",
    "                helixClass = helix[39:40].strip()\n",
    "                helixLength = float(helix[72:76].strip())\n",
    "            \n",
    "                if helixClass not in freq:\n",
    "                    freq[helixClass] = []\n",
    "                    freq[helixClass].append(helixLength)\n",
    "                else:\n",
    "                    freq[helixClass].append(helixLength)\n",
    "        processed+=1\n",
    "    return freq"
   ]
  },
  {
   "cell_type": "code",
   "execution_count": 7,
   "metadata": {
    "scrolled": true
   },
   "outputs": [
    {
     "name": "stdout",
     "output_type": "stream",
     "text": [
      "Progress: [####################] 100.0%\n",
      "Processing 18876/18876\n",
      "CPU times: user 4min 22s, sys: 1min 5s, total: 5min 28s\n",
      "Wall time: 9h 47min 29s\n"
     ]
    }
   ],
   "source": [
    "%%time\n",
    "pdbs = readNPDBFiles(\"cullpdb_pc30_res3.0_R1.0_d191017_chains18877\", 18877) #18877\n",
    "freq = AnalyzePDB_Q3(pdbs)"
   ]
  },
  {
   "cell_type": "code",
   "execution_count": 8,
   "metadata": {},
   "outputs": [
    {
     "data": {
      "text/plain": [
       "[None, None, None, None]"
      ]
     },
     "execution_count": 8,
     "metadata": {},
     "output_type": "execute_result"
    },
    {
     "data": {
      "image/png": "[encoded data removed]",
      "text/plain": [
       "<Figure size 1008x504 with 1 Axes>"
      ]
     },
     "metadata": {},
     "output_type": "display_data"
    }
   ],
   "source": [
    "fig, ax = plt.subplots()\n",
    "fig.set_size_inches(14, 7)\n",
    "\n",
    "plotList = [freq[entry] for entry in freq]\n",
    "box = ax.boxplot(plotList, showfliers=False, patch_artist=True)\n",
    "\n",
    "#Set font size\n",
    "plt.rcParams.update({'font.size': 16})\n",
    "\n",
    "#Set Box Color\n",
    "for patch in box['boxes']:\n",
    "        patch.set(facecolor=\"#4C72B0\") \n",
    "\n",
    "#Set labels\n",
    "ax.set_title('Helix Type and Length')\n",
    "labels = [item.get_text() for item in ax.get_xticklabels()]\n",
    "#labels[0] = \"Right-handed alpha\"\n",
    "#labels[1] = \"Right-handed omega\"\n",
    "#labels[2] = \"Right-handed pi\"\n",
    "ax.set_xticklabels(labels)\n",
    "ax.set_yticks(range(0,31, 2))\n",
    "ax.set_xlabel(\"Helix Class\")\n",
    "ax.set_ylabel(\"Length\")\n",
    "\n",
    "#Set show yaxis grid\n",
    "ax.yaxis.grid(True)\n",
    "\n",
    "#Set Line Thickness\n",
    "plt.setp(box['whiskers'], color='k', linestyle='-', linewidth=2)\n",
    "plt.setp(box['caps'], color='k', linestyle='-', linewidth=2)\n",
    "plt.setp(box['medians'], linewidth=2)\n",
    "plt.setp(box['boxes'], linewidth=2)\n",
    "\n",
    "#fig.savefig('images/Section3Boxplot.png', format='png', dpi=1200)"
   ]
  },
  {
   "cell_type": "code",
   "execution_count": null,
   "metadata": {},
   "outputs": [],
   "source": []
  },
  {
   "cell_type": "code",
   "execution_count": null,
   "metadata": {},
   "outputs": [],
   "source": []
  }
 ],
 "metadata": {
  "kernelspec": {
   "display_name": "Python 3",
   "language": "python",
   "name": "python3"
  },
  "language_info": {
   "codemirror_mode": {
    "name": "ipython",
    "version": 3
   },
   "file_extension": ".py",
   "mimetype": "text/x-python",
   "name": "python",
   "nbconvert_exporter": "python",
   "pygments_lexer": "ipython3",
   "version": "3.6.8"
  }
 },
 "nbformat": 4,
 "nbformat_minor": 2
}
