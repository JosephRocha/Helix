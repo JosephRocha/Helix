{
 "cells": [
  {
   "cell_type": "code",
   "execution_count": 3,
   "metadata": {},
   "outputs": [],
   "source": [
    "import random\n",
    "import numpy as np\n",
    "import matplotlib.pyplot as plt\n",
    "import urllib.request\n",
    "import pandas as pd\n",
    "import math\n",
    "import matplotlib.lines as mlines"
   ]
  },
  {
   "cell_type": "code",
   "execution_count": 4,
   "metadata": {},
   "outputs": [],
   "source": [
    "import time, sys\n",
    "from IPython.display import clear_output\n",
    "\n",
    "def update_progress(progress):\n",
    "    bar_length = 20\n",
    "    if isinstance(progress, int):\n",
    "        progress = float(progress)\n",
    "    if not isinstance(progress, float):\n",
    "        progress = 0\n",
    "    if progress < 0:\n",
    "        progress = 0\n",
    "    if progress >= 1:\n",
    "        progress = 1\n",
    "\n",
    "    block = int(round(bar_length * progress))\n",
    "\n",
    "    clear_output(wait = True)\n",
    "    text = \"Progress: [{0}] {1:.1f}%\".format( \"#\" * block + \"-\" * (bar_length - block), progress * 100)\n",
    "    print(text)"
   ]
  },
  {
   "cell_type": "code",
   "execution_count": 5,
   "metadata": {},
   "outputs": [],
   "source": [
    "def readNPDBFiles(path, n):\n",
    "    file = open(path, \"r\")\n",
    "    lines = file.readlines()\n",
    "    pdbs = [(line.strip()[:4], line.strip()[4:5]) for line in lines[1:]]\n",
    "    random.shuffle(pdbs)\n",
    "    return pdbs[1:n]"
   ]
  },
  {
   "cell_type": "code",
   "execution_count": 6,
   "metadata": {},
   "outputs": [],
   "source": [
    "def getPDBFile(pdb):\n",
    "        try:\n",
    "            url = \"https://files.rcsb.org/view/{}.pdb\".format(pdb)\n",
    "            response = urllib.request.urlopen(url)\n",
    "            data = response.read()\n",
    "            text = data.decode('utf-8')\n",
    "            text = text.split('\\n')\n",
    "            return(text)\n",
    "        except:\n",
    "            return([])"
   ]
  },
  {
   "cell_type": "code",
   "execution_count": 113,
   "metadata": {},
   "outputs": [],
   "source": [
    "def getAAsInHelix(lines, chain):\n",
    "    helices = [line for line in lines if line.startswith(\"HELIX\")]\n",
    "    aaList = []\n",
    "    for helix in helices:\n",
    "        chainID = helix[19].strip()\n",
    "        if(chainID == chain):       \n",
    "            initSeqNum = int(helix[22:26].strip()) \n",
    "            endSeqNum = int(helix[34:38].strip())\n",
    "            helixClass = helix[39:41].strip()\n",
    "            for i in range(initSeqNum, endSeqNum+1):\n",
    "                aaList.append((i, helixClass))\n",
    "    return aaList\n",
    "\n",
    "def getAAName(lines, chain, aaNum):\n",
    "    atoms = [line for line in lines if line.startswith(\"ATOM\")]\n",
    "    for atom in atoms:\n",
    "        name = atom[17:21].strip()\n",
    "        chainID = atom[21].strip()\n",
    "        resSeq = int(atom[23:26].strip())\n",
    "        if(chainID == chain and aaNum == resSeq):\n",
    "            return name\n",
    "    return \"???\"\n",
    "        \n",
    "def AnalyzePDB_Q2(pdbs):\n",
    "    processed = 1\n",
    "    helixTypes = {}\n",
    "    for pdb in pdbs:\n",
    "        update_progress(processed / len(pdbs))\n",
    "        print(\"Processing {}/{}\".format(processed, len(pdbs)))\n",
    "        lines = getPDBFile(pdb[0])\n",
    "        \n",
    "        # Do Helix\n",
    "        #Get a list of all amino acid numbers in helices with chain pdb[1]\n",
    "        aaList = getAAsInHelix(lines, pdb[1])\n",
    "        #For each aa in the returned list, find it's name and count it.\n",
    "        for aa in aaList:\n",
    "            Type = aa[1]\n",
    "            if(Type in helixTypes):\n",
    "                name = getAAName(lines, pdb[1], aa[0])\n",
    "                if(name == \"???\"):\n",
    "                    continue\n",
    "                if(name in helixTypes[Type]):\n",
    "                    helixTypes[Type][name] += 1\n",
    "                else:\n",
    "                    helixTypes[Type][name] = 1\n",
    "            else:\n",
    "                helixTypes[Type] = {}\n",
    "                \n",
    "        #Do Sheet\n",
    "        processed+=1\n",
    "    print(helixTypes)\n",
    "    return helixTypes"
   ]
  },
  {
   "cell_type": "code",
   "execution_count": 114,
   "metadata": {},
   "outputs": [
    {
     "name": "stdout",
     "output_type": "stream",
     "text": [
      "Progress: [####################] 100.0%\n",
      "Processing 99/99\n",
      "{'1': {'PRO': 238, 'ALA': 1145, 'GLU': 876, 'ARG': 619, 'TRP': 154, 'GLY': 521, 'TYR': 379, 'ILE': 624, 'VAL': 668, 'LEU': 1231, 'ASP': 586, 'HIS': 220, 'LYS': 668, 'SER': 583, 'THR': 513, 'GLN': 465, 'MET': 233, 'PHE': 442, 'CYS': 93, 'ASN': 428}, '5': {'PHE': 60, 'TRP': 25, 'LEU': 118, 'TYR': 45, 'GLY': 87, 'HIS': 37, 'MET': 14, 'SER': 86, 'ARG': 55, 'ASP': 108, 'GLN': 50, 'THR': 55, 'ALA': 107, 'PRO': 98, 'LYS': 79, 'ILE': 55, 'ASN': 59, 'VAL': 49, 'GLU': 123, 'CYS': 12}}\n",
      "CPU times: user 33.3 s, sys: 878 ms, total: 34.2 s\n",
      "Wall time: 2min 9s\n"
     ]
    }
   ],
   "source": [
    "%%time\n",
    "pdbs = readNPDBFiles(\"cullpdb_pc30_res3.0_R1.0_d191017_chains18877\", 100)\n",
    "helixDict = AnalyzePDB_Q2(pdbs)"
   ]
  },
  {
   "cell_type": "code",
   "execution_count": 117,
   "metadata": {},
   "outputs": [
    {
     "name": "stdout",
     "output_type": "stream",
     "text": [
      "{'PRO': 238, 'ALA': 1145, 'GLU': 876, 'ARG': 619, 'TRP': 154, 'GLY': 521, 'TYR': 379, 'ILE': 624, 'VAL': 668, 'LEU': 1231, 'ASP': 586, 'HIS': 220, 'LYS': 668, 'SER': 583, 'THR': 513, 'GLN': 465, 'MET': 233, 'PHE': 442, 'CYS': 93, 'ASN': 428}\n",
      "\n",
      "{'PHE': 60, 'TRP': 25, 'LEU': 118, 'TYR': 45, 'GLY': 87, 'HIS': 37, 'MET': 14, 'SER': 86, 'ARG': 55, 'ASP': 108, 'GLN': 50, 'THR': 55, 'ALA': 107, 'PRO': 98, 'LYS': 79, 'ILE': 55, 'ASN': 59, 'VAL': 49, 'GLU': 123, 'CYS': 12}\n",
      "\n"
     ]
    }
   ],
   "source": [
    "for item in helixDict:\n",
    "    print(helixDict[item])\n",
    "    print()"
   ]
  },
  {
   "cell_type": "code",
   "execution_count": null,
   "metadata": {},
   "outputs": [],
   "source": []
  }
 ],
 "metadata": {
  "kernelspec": {
   "display_name": "Python 3",
   "language": "python",
   "name": "python3"
  },
  "language_info": {
   "codemirror_mode": {
    "name": "ipython",
    "version": 3
   },
   "file_extension": ".py",
   "mimetype": "text/x-python",
   "name": "python",
   "nbconvert_exporter": "python",
   "pygments_lexer": "ipython3",
   "version": "3.6.8"
  }
 },
 "nbformat": 4,
 "nbformat_minor": 2
}
