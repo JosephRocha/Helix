{
 "cells": [
  {
   "cell_type": "code",
   "execution_count": 1,
   "metadata": {},
   "outputs": [],
   "source": [
    "import random\n",
    "import numpy as np\n",
    "import matplotlib.pyplot as plt\n",
    "import urllib.request\n",
    "import pandas as pd\n",
    "import math\n",
    "import matplotlib.lines as mlines"
   ]
  },
  {
   "cell_type": "code",
   "execution_count": 2,
   "metadata": {},
   "outputs": [],
   "source": [
    "import time, sys\n",
    "from IPython.display import clear_output\n",
    "\n",
    "def update_progress(progress):\n",
    "    bar_length = 20\n",
    "    if isinstance(progress, int):\n",
    "        progress = float(progress)\n",
    "    if not isinstance(progress, float):\n",
    "        progress = 0\n",
    "    if progress < 0:\n",
    "        progress = 0\n",
    "    if progress >= 1:\n",
    "        progress = 1\n",
    "\n",
    "    block = int(round(bar_length * progress))\n",
    "\n",
    "    clear_output(wait = True)\n",
    "    text = \"Progress: [{0}] {1:.1f}%\".format( \"#\" * block + \"-\" * (bar_length - block), progress * 100)\n",
    "    print(text)"
   ]
  },
  {
   "cell_type": "code",
   "execution_count": 3,
   "metadata": {},
   "outputs": [],
   "source": [
    "def readNPDBFiles(path, n):\n",
    "    file = open(path, \"r\")\n",
    "    lines = file.readlines()\n",
    "    pdbs = [(line.strip()[:4], line.strip()[4:5]) for line in lines[1:]]\n",
    "    random.shuffle(pdbs)\n",
    "    return pdbs[1:n]"
   ]
  },
  {
   "cell_type": "code",
   "execution_count": 4,
   "metadata": {},
   "outputs": [],
   "source": [
    "def getPDBFile(pdb):\n",
    "        try:\n",
    "            url = \"https://files.rcsb.org/view/{}.pdb\".format(pdb)\n",
    "            response = urllib.request.urlopen(url)\n",
    "            data = response.read()\n",
    "            text = data.decode('utf-8')\n",
    "            text = text.split('\\n')\n",
    "            return(text)\n",
    "        except:\n",
    "            return([])"
   ]
  },
  {
   "cell_type": "code",
   "execution_count": 5,
   "metadata": {},
   "outputs": [],
   "source": [
    "def getAtomCoordinates(lines, chain, aaNum, atom):\n",
    "    atomLines = [line for line in lines if line.startswith(\"ATOM\")]\n",
    "    for line in atomLines:\n",
    "        name = line[12:16].strip()\n",
    "        chainID = line[21].strip()\n",
    "        resSeq = line[22:26].strip()\n",
    "        x = line[30:38].strip()\n",
    "        y = line[38:46].strip()\n",
    "        z = line[46:54].strip()\n",
    "        if chainID == chain and resSeq == aaNum and atom == name:\n",
    "            return(x, y, z)\n",
    "    return None\n",
    "\n",
    "def getDistance(lines, chain, aaNum1, atom1, aaNum2, atom2):\n",
    "    atom1Coords = getAtomCoordinates(lines, chain, aaNum1, atom1)\n",
    "    atom2Coords = getAtomCoordinates(lines, chain, aaNum2, atom2)\n",
    "    \n",
    "    if(atom1Coords is None or atom2Coords is None):\n",
    "        return None\n",
    "    \n",
    "    x1 = float(atom1Coords[0])\n",
    "    y1 = float(atom1Coords[1])\n",
    "    z1 = float(atom1Coords[2])\n",
    "    x2 = float(atom2Coords[0])\n",
    "    y2 = float(atom2Coords[1])\n",
    "    z2 = float(atom2Coords[2])\n",
    "    \n",
    "    dist = math.sqrt(math.pow((x2-x1), 2) + math.pow((y2-y1), 2) + math.pow((z2-z1), 2))\n",
    "    return dist\n",
    "\n",
    "def getBackboneAngle(lines, chain, aaNum):\n",
    "    # CA of aaNum-1\n",
    "    atom1Coords = getAtomCoordinates(lines, chain, aaNum, \"N\")\n",
    "    atom1Coords = np.array(atom1Coords).astype(float)\n",
    "    \n",
    "    # C of aaNum-1\n",
    "    atom2Coords = getAtomCoordinates(lines, chain, aaNum, \"CA\")\n",
    "    atom2Coords = np.array(atom2Coords).astype(float)\n",
    "    \n",
    "    # N of aaNum\n",
    "    atom3Coords = getAtomCoordinates(lines, chain, aaNum, \"C\")\n",
    "    atom3Coords = np.array(atom3Coords).astype(float)\n",
    "    \n",
    "    #n-ca\n",
    "    ba = atom1Coords - atom2Coords\n",
    " \n",
    "    #c-ca\n",
    "    bc = atom3Coords - atom2Coords\n",
    " \n",
    "    cosine_angle = np.dot(ba, bc) / (np.linalg.norm(ba) * np.linalg.norm(bc))\n",
    "    angle = np.arccos(cosine_angle)\n",
    "    \n",
    "    return np.degrees(angle)\n"
   ]
  },
  {
   "cell_type": "code",
   "execution_count": 6,
   "metadata": {},
   "outputs": [],
   "source": [
    "def AnalyzePDB_Q7(pdbs):\n",
    "    NtoCADistances = []\n",
    "    CAtoCDistances = []\n",
    "    backboneAngles = []\n",
    "    processed = 1\n",
    "    for pdb in pdbs:\n",
    "        update_progress(processed / len(pdbs))\n",
    "        print(\"Processing {}/{}\".format(processed, len(pdbs)))\n",
    "        lines = getPDBFile(pdb[0])\n",
    "        aaNums = set()\n",
    "        atoms = [line for line in lines if line.startswith(\"ATOM\")]\n",
    "        prevaaNum = -1\n",
    "        for atom in atoms:\n",
    "            chainID = atom[21].strip()\n",
    "            aaNum = atom[22:26].strip()\n",
    "            residueName = atom[17:20].strip()\n",
    "            name = atom[12:16].strip()\n",
    "            if(chainID == pdb[1] and prevaaNum != aaNum):\n",
    "                NtoCADistance = getDistance(lines, chainID, aaNum, \"N\", aaNum, \"CA\")\n",
    "                CAtoCDistance = getDistance(lines, chainID, aaNum, \"CA\", aaNum, \"C\")\n",
    "                backboneAngle = getBackboneAngle(lines, chainID, aaNum)\n",
    "                if(NtoCADistance is None or CAtoCDistance is None or backboneAngle is None):\n",
    "                    continue\n",
    "                NtoCADistances.append(NtoCADistance)\n",
    "                CAtoCDistances.append(CAtoCDistance)\n",
    "                backboneAngles.append(backboneAngle)\n",
    "            prevaaNum = aaNum\n",
    "        processed+=1\n",
    "    return(np.array(NtoCADistances), np.array(CAtoCDistances), np.array(backboneAngles))"
   ]
  },
  {
   "cell_type": "code",
   "execution_count": null,
   "metadata": {},
   "outputs": [
    {
     "name": "stdout",
     "output_type": "stream",
     "text": [
      "Progress: [#######-------------] 35.7%\n",
      "Processing 6736/18876\n"
     ]
    }
   ],
   "source": [
    "%%time\n",
    "pdbs = readNPDBFiles(\"cullpdb_pc30_res3.0_R1.0_d191017_chains18877\", 18877)\n",
    "NtoCADistances, CAtoCDistances, backboneAngles = AnalyzePDB_Q7(pdbs)"
   ]
  },
  {
   "cell_type": "code",
   "execution_count": null,
   "metadata": {},
   "outputs": [],
   "source": [
    "print(\"Nitrogen to Carbon Alpha distance mean is {}, std is {}.\".format(NtoCADistances.mean(), NtoCADistances.std()))\n",
    "print(\"Carbon Alpha to Carbon distance mean is {}, std is {}.\".format(CAtoCDistances.mean(), CAtoCDistances.std()))\n",
    "print(\"Angle of Nitrogen, Carbon Alpha, and Carbon mean is {}, std is {}.\".format(backboneAngles.mean(), backboneAngles.std()))\n",
    "      "
   ]
  },
  {
   "cell_type": "code",
   "execution_count": null,
   "metadata": {},
   "outputs": [],
   "source": []
  }
 ],
 "metadata": {
  "kernelspec": {
   "display_name": "Python 3",
   "language": "python",
   "name": "python3"
  },
  "language_info": {
   "codemirror_mode": {
    "name": "ipython",
    "version": 3
   },
   "file_extension": ".py",
   "mimetype": "text/x-python",
   "name": "python",
   "nbconvert_exporter": "python",
   "pygments_lexer": "ipython3",
   "version": "3.6.8"
  }
 },
 "nbformat": 4,
 "nbformat_minor": 2
}
